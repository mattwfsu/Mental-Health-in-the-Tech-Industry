{
  "nbformat": 4,
  "nbformat_minor": 0,
  "metadata": {
    "colab": {
      "provenance": []
    },
    "kernelspec": {
      "name": "python3",
      "display_name": "Python 3"
    },
    "language_info": {
      "name": "python"
    }
  },
  "cells": [
    {
      "cell_type": "code",
      "source": [
        "#important necessary modules\n",
        "import pandas as pd\n",
        "import numpy as np\n",
        "import matplotlib.pyplot as plt"
      ],
      "metadata": {
        "id": "UIPtVGq_QfVB"
      },
      "execution_count": null,
      "outputs": []
    },
    {
      "cell_type": "code",
      "source": [
        "from google.colab import drive\n",
        "drive.mount('/content/drive')"
      ],
      "metadata": {
        "id": "H-YRpVOmQpO_",
        "colab": {
          "base_uri": "https://localhost:8080/"
        },
        "outputId": "a84810b5-acbc-401a-dc39-f2270492d9c5"
      },
      "execution_count": null,
      "outputs": [
        {
          "output_type": "stream",
          "name": "stdout",
          "text": [
            "Drive already mounted at /content/drive; to attempt to forcibly remount, call drive.mount(\"/content/drive\", force_remount=True).\n"
          ]
        }
      ]
    },
    {
      "cell_type": "code",
      "source": [
        "#load in concatenated dataframe made in \"Data Cleaning Main\"\n",
        "dfCombinedFinal = pd.read_csv('/content/drive/Shareddrives/DSCI400Data/dfcombinedfinal.csv')\n",
        "\n",
        "#Drop unnamed column\n",
        "dfCombinedFinal.drop('Unnamed: 0', axis=1, inplace=True)"
      ],
      "metadata": {
        "id": "bxec61OQQppt"
      },
      "execution_count": null,
      "outputs": []
    },
    {
      "cell_type": "code",
      "source": [
        "dfCombinedFinal.columns"
      ],
      "metadata": {
        "colab": {
          "base_uri": "https://localhost:8080/"
        },
        "id": "Fmzp-JDBbxet",
        "outputId": "2919ab8e-d19a-4705-b800-e92466b88df8"
      },
      "execution_count": null,
      "outputs": [
        {
          "output_type": "execute_result",
          "data": {
            "text/plain": [
              "Index(['1', '2', '3', '5', '6', '7', '8', '9', '10', '13', '14', '25', '26',\n",
              "       '27', '28', '29', '30', '33', '34', '40', '41', '43', '44', '45', '50',\n",
              "       '51', '52', '53', '54', '55', '57', '61', '62'],\n",
              "      dtype='object')"
            ]
          },
          "metadata": {},
          "execution_count": 17
        }
      ]
    },
    {
      "cell_type": "code",
      "source": [
        "#we are using the pd.factorize function to see all unique values in each feature\n",
        "for col in dfCombinedFinal.columns:\n",
        "    vector, unique = pd.factorize(dfCombinedFinal[col])\n",
        "    print(f\"Unique values in {col}: {unique}\")\n",
        "\n"
      ],
      "metadata": {
        "id": "B8ea6TQtQFOC",
        "colab": {
          "base_uri": "https://localhost:8080/"
        },
        "outputId": "ce665ccf-e53f-4687-88f9-f8adccbcb62d"
      },
      "execution_count": null,
      "outputs": [
        {
          "output_type": "stream",
          "name": "stdout",
          "text": [
            "Unique values in 1: Index(['0', '1', 'FALSE', 'TRUE'], dtype='object')\n",
            "Unique values in 2: Index(['26-100', '25-Jun', 'More than 1000', '100-500', '500-1000', '5-Jan'], dtype='object')\n",
            "Unique values in 3: Index(['1.0', '0.0', 'TRUE', 'FALSE'], dtype='object')\n",
            "Unique values in 5: Index(['Not eligible for coverage / N/A', 'No', 'Yes', 'I don't know',\n",
            "       'Not eligible for coverage / NA'],\n",
            "      dtype='object')\n",
            "Unique values in 6: Index(['Yes', 'I am not sure', 'No'], dtype='object')\n",
            "Unique values in 7: Index(['No', 'Yes', 'I don't know'], dtype='object')\n",
            "Unique values in 8: Index(['No', 'Yes', 'I don't know'], dtype='object')\n",
            "Unique values in 9: Index(['I don't know', 'Yes', 'No'], dtype='object')\n",
            "Unique values in 10: Index(['Very easy', 'Somewhat easy', 'Neither easy nor difficult',\n",
            "       'Very difficult', 'Somewhat difficult', 'I don't know', 'Difficult'],\n",
            "      dtype='object')\n",
            "Unique values in 13: Index(['Maybe', 'Yes', 'No'], dtype='object')\n",
            "Unique values in 14: Index(['Yes', 'Maybe', 'No'], dtype='object')\n",
            "Unique values in 25: Index(['1', '0', 'TRUE', 'FALSE'], dtype='object')\n",
            "Unique values in 26: Index(['No, none did', 'Yes, they all did', 'Some did', 'I don't know'], dtype='object')\n",
            "Unique values in 27: Index(['N/A (not currently aware)', 'I was aware of some',\n",
            "       'Yes, I was aware of all of them', 'No, I only became aware later',\n",
            "       'N/A (was not aware)', 'N/A (none offered)'],\n",
            "      dtype='object')\n",
            "Unique values in 28: Index(['I don't know', 'None did', 'Some did', 'Yes, they all did'], dtype='object')\n",
            "Unique values in 29: Index(['None did', 'Some did', 'Yes, they all did'], dtype='object')\n",
            "Unique values in 30: Index(['I don't know', 'Yes, always', 'Sometimes', 'No'], dtype='object')\n",
            "Unique values in 33: Index(['Some of my previous employers', 'No, at none of my previous employers',\n",
            "       'Yes, at all of my previous employers',\n",
            "       'At some of my previous employers'],\n",
            "      dtype='object')\n",
            "Unique values in 34: Index(['Some of my previous employers', 'I don't know',\n",
            "       'No, at none of my previous employers',\n",
            "       'Yes, at all of my previous employers',\n",
            "       'Yes, all of my previous supervisors',\n",
            "       'No, none of my previous supervisors',\n",
            "       'Some of my previous supervisors'],\n",
            "      dtype='object')\n",
            "Unique values in 40: Index(['Somewhat open', 'Neutral',\n",
            "       'Not applicable to me (I do not have a mental illness)', 'Very open',\n",
            "       'Not open at all', 'Somewhat not open', '5', '4', '10', '8', '3', '6',\n",
            "       '2', '9', '7', '1', '0'],\n",
            "      dtype='object')\n",
            "Unique values in 41: Index(['No', 'Maybe/Not sure', 'Yes, I experienced', 'Yes, I observed',\n",
            "       'I've always been self-employed'],\n",
            "      dtype='object')\n",
            "Unique values in 43: Index(['No', 'Yes', 'I don't know'], dtype='object')\n",
            "Unique values in 44: Index(['Yes', 'Maybe', 'No', 'Possibly', 'Don't Know'], dtype='object')\n",
            "Unique values in 45: Index(['No', 'Yes', 'Maybe', 'Possibly', 'Don't Know'], dtype='object')\n",
            "Unique values in 50: Index(['0', '1', 'FALSE', 'TRUE'], dtype='object')\n",
            "Unique values in 51: Index(['Not applicable to me', 'Rarely', 'Sometimes', 'Never', 'Often'], dtype='object')\n",
            "Unique values in 52: Index(['Not applicable to me', 'Sometimes', 'Often', 'Rarely', 'Never'], dtype='object')\n",
            "Unique values in 53: Float64Index([ 39.0,  29.0,  38.0,  43.0,  42.0,  30.0,  37.0,  44.0,  28.0,\n",
            "               34.0,  35.0,  52.0,  32.0,  25.0,  31.0,  26.0,  33.0,  27.0,\n",
            "               36.0,  40.0,  46.0,  41.0,  45.0,  19.0,  21.0,  24.0,  17.0,\n",
            "               23.0,  22.0,  51.0,  48.0,  55.0,  50.0,  49.0,  20.0,  54.0,\n",
            "               47.0,  56.0,  57.0,  63.0,  99.0,  61.0, 323.0,  62.0,  53.0,\n",
            "               58.0,   3.0,  66.0,  59.0,  15.0,  65.0,  74.0,  70.0,  18.0,\n",
            "               64.0,  60.0,  67.0,   0.0,   5.0,   1.0,  11.0, 223.0],\n",
            "             dtype='float64')\n",
            "Unique values in 54: Index(['male', 'female', 'other'], dtype='object')\n",
            "Unique values in 55: Index(['United Kingdom', 'United States of America', 'Canada', 'Germany',\n",
            "       'Netherlands', 'Czech Republic', 'Lithuania', 'Australia', 'France',\n",
            "       'Venezuela', 'Poland', 'Belgium', 'Brazil', 'Denmark', 'Sweden',\n",
            "       'Russia', 'Spain', 'India', 'Mexico', 'Switzerland', 'Norway',\n",
            "       'Argentina', 'Ireland', 'Italy', 'Finland', 'Colombia', 'Costa Rica',\n",
            "       'Vietnam', 'Bulgaria', 'New Zealand', 'South Africa', 'Slovakia',\n",
            "       'Austria', 'Bangladesh', 'Algeria', 'Pakistan', 'Afghanistan', 'Greece',\n",
            "       'Romania', 'Other', 'Brunei', 'Japan', 'Iran', 'Hungary', 'Israel',\n",
            "       'Ecuador', 'Bosnia and Herzegovina', 'China', 'Chile', 'Guatemala',\n",
            "       'Taiwan', 'Serbia', 'Estonia', 'Iceland', 'Indonesia', 'Portugal',\n",
            "       'Jordan', 'Croatia', 'Ukraine', 'Singapore', 'Belarus', 'Turkey',\n",
            "       'Latvia', 'Mauritius', 'Saudi Arabia', 'Nigeria', 'Kenya', 'Uruguay',\n",
            "       'Ethiopia', 'Macedonia', 'Hong Kong', 'Georgia', 'Ghana', 'Mongolia',\n",
            "       'Cameroon', 'Philippines', 'Sri Lanka', 'Egypt', 'Malaysia', 'Slovenia',\n",
            "       'Albania', 'Sao Tome and Principe'],\n",
            "      dtype='object')\n",
            "Unique values in 57: Index(['United Kingdom', 'United States of America', 'Canada', 'Germany',\n",
            "       'Netherlands', 'Czech Republic', 'Lithuania', 'Australia', 'France',\n",
            "       'Venezuela', 'Poland', 'Belgium', 'Brazil', 'Denmark', 'Sweden',\n",
            "       'Russia', 'Spain', 'India', 'United Arab Emirates', 'Mexico',\n",
            "       'Switzerland', 'Norway', 'Argentina', 'Ireland', 'Italy', 'Finland',\n",
            "       'Turkey', 'Colombia', 'Costa Rica', 'Vietnam', 'Bulgaria',\n",
            "       'New Zealand', 'South Africa', 'Slovakia', 'Austria', 'Bangladesh',\n",
            "       'Pakistan', 'Afghanistan', 'Greece', 'Other', 'Romania', 'Brunei',\n",
            "       'Iran', 'Hungary', 'Israel', 'Japan', 'Ecuador',\n",
            "       'Bosnia and Herzegovina', 'China', 'Chile', 'Guatemala', 'Serbia',\n",
            "       'Estonia', 'Iceland', 'Indonesia', 'Portugal', 'Jordan', 'Croatia',\n",
            "       'Eritrea', 'Swaziland', 'Ukraine', 'Singapore', 'Luxembourg', 'Latvia',\n",
            "       'Mauritius', 'Saudi Arabia', 'Nigeria', 'Kenya', 'Uruguay', 'Ethiopia',\n",
            "       'Macedonia', 'Hong Kong', 'Georgia', 'Ghana', 'Botswana', 'Algeria',\n",
            "       'Mongolia', 'Cameroon', 'Philippines', 'Sri Lanka', 'Taiwan', 'Egypt',\n",
            "       'Malaysia', 'Belarus', 'Slovenia', 'Albania'],\n",
            "      dtype='object')\n",
            "Unique values in 61: Index(['Maybe', 'Yes', 'No'], dtype='object')\n",
            "Unique values in 62: Index(['Maybe', 'No', 'Yes'], dtype='object')\n"
          ]
        }
      ]
    },
    {
      "cell_type": "code",
      "source": [
        "#Create a map of how we would like to vectorize data for each question \n",
        "mappingQuestion1 = {'FALSE':0, 'TRUE':1}\n",
        "mappingQuestion2 = {'5-Jan':0, '25-Jun':1, '26-100':2, '100-500': 3, '500-1000': 4, 'More than 1000': 5}\n",
        "mappingQuestion3 = {'FALSE':0, 'TRUE':1}\n",
        "mappingQuestion5 = {'I don\\'t know':-1, 'Not eligible for coverage / N/A':-1, 'Not eligible for coverage / NA':-1, 'No':0, 'Yes': 1}\n",
        "mappingQuestion6 = {'I am not sure':-1, 'NaN':-1, 'No':0, 'Yes': 1}\n",
        "mappingQuestion7 = {'I don\\'t know':-1, 'No':0, 'Yes': 1}\n",
        "mappingQuestion8 = {'I don\\'t know':-1, 'No':0, 'Yes': 1}\n",
        "mappingQuestion9 = {'I don\\'t know':-1, 'No':0, 'Yes': 1}\n",
        "mappingQuestion10 = {'I don\\'t know':-1, 'Very easy':0, 'Somewhat easy': 1, 'Neither easy nor difficult': 3, 'Somewhat difficult': 4, 'Difficult': 5, 'Very difficult': 6}\n",
        "mappingQuestion13 = {'No':0, 'Maybe': 1, 'Yes': 2}\n",
        "mappingQuestion14 = {'No':0, 'Maybe': 1, 'Yes': 2}\n",
        "mappingQuestion25 = {'FALSE':0, 'TRUE':1}\n",
        "mappingQuestion26 = {'No, none did': 0, 'Some did': 1, 'Yes, they all did': 2, 'I don\\'t know': -1}\n",
        "mappingQuestion27 = {'N/A (none offered)': 0, 'N/A (was not aware)' :0, 'N/A (not currently aware)': 0, 'No, I only became aware later': 1, 'I was aware of some': 2, 'Yes, I was aware of all of them': 3}\n",
        "mappingQuestion28 = {'None did': 0, 'Some did': 1, 'Yes, they all did': 2, 'I don\\'t know': -1}\n",
        "mappingQuestion29 = {'None did': 0, 'Some did': 1, 'Yes, they all did': 2, 'I don\\'t know': -1}\n",
        "mappingQuestion30 = {'No': 0, 'Sometimes': 1, 'Yes, always': 2, 'I don\\'t know': -1}\n",
        "mappingQuestion33 = {'No, at none of my previous employers': 0, 'At some of my previous employers': 1, 'Some of my previous employers': 1, 'Yes, at all of my previous employers': 2, 'I don\\'t know': -1}\n",
        "mappingQuestion34 = {'No, at none of my previous employers': 0, 'No, none of my previous supervisors': 0, 'Some of my previous employers': 1, 'Some of my previous supervisors': 1, 'Yes, at all of my previous employers': 2, 'Yes, all of my previous supervisors':2,  'I don\\'t know': -1}\n",
        "mappingQuestion40 = {'Not open at all': 0, 'Somewhat not open': 2, 'Neutral': 5, 'Somewhat open' : 8, 'Very open' : 10, 'Not applicable to me (I do not have a mental illness)': -1}\n",
        "mappingQuestion41 = {'No': 0, 'Maybe/Not sure': 1, 'Yes, I observed': 2, 'Yes, I experienced' : 3, 'I don\\'t know': -1}\n",
        "mappingQuestion43 = {'No': 0, 'Yes': 1, 'I don\\'t know': -1}\n",
        "mappingQuestion44 = {'No': 0, 'Maybe': 1, 'Possibly':2, 'Yes' :3, 'I don\\'t know': -1, 'Don\\'t Know': -1}\n",
        "mappingQuestion45 = {'No':0, 'Maybe':1, 'Possibly':1, 'Yes':2, 'Don\\'t Know': -1}\n",
        "mappingQuestion50 = {'FALSE':0, 'TRUE':1}\n",
        "mappingQuestion51 = {'Never':0, 'Rarely':1, 'Sometimes':2, 'Often': 3, 'Not applicable to me': -1}\n",
        "mappingQuestion52 = {'Never':0, 'Rarely':1, 'Sometimes':2, 'Often': 3, 'Not applicable to me': -1}\n",
        "mappingQuestion53 = {}\n",
        "mappingQuestion54 = {'female':0, 'male':1, 'other':-1}\n",
        "mappingQuestion61 = {'No':0, 'Maybe':1, 'Yes':2}\n",
        "mappingQuestion62 = {'No':0, 'Maybe':1, 'Yes':2}\n"
      ],
      "metadata": {
        "id": "C6lyBZauOuXg"
      },
      "execution_count": null,
      "outputs": []
    },
    {
      "cell_type": "code",
      "source": [
        "#Create a map factorizing all the unique response options for question 55 \"What country do you live in?\"\n",
        "uniqueResponsesQuestion55 = dfCombinedFinal['55'].unique()\n",
        "mappingQuestion55 = {response: index for index, response in enumerate(uniqueResponsesQuestion55)}\n",
        "\n",
        "\n",
        "#Create a map factorizing all the unique response options for question 57 \"What country do you work in?\"\n",
        "uniqueResponsesQuestion57 = dfCombinedFinal['57'].unique()\n",
        "mappingQuestion57 = {response: index for index, response in enumerate(uniqueResponsesQuestion57)}"
      ],
      "metadata": {
        "id": "AZeD-0USbQSL"
      },
      "execution_count": null,
      "outputs": []
    },
    {
      "cell_type": "code",
      "source": [
        "listOfQuestionNumber = []\n",
        "for column in dfCombinedFinal.columns:\n",
        "  listOfQuestionNumber.append(column)\n",
        "\n",
        "#replace all the data with the conditional maps we created\n",
        "for questionNumber in listOfQuestionNumber: \n",
        "  stringValue = \"mappingQuestion\" + str(questionNumber)\n",
        "  dfCombinedFinal[questionNumber] = dfCombinedFinal[questionNumber].replace(globals()[stringValue])\n"
      ],
      "metadata": {
        "id": "NO29ymbPRjfM"
      },
      "execution_count": null,
      "outputs": []
    },
    {
      "cell_type": "code",
      "source": [
        "dfCombinedFinal[\"25\"].unique()"
      ],
      "metadata": {
        "colab": {
          "base_uri": "https://localhost:8080/"
        },
        "id": "dzYHGFiAcLcE",
        "outputId": "c1fcb2ec-cd19-4f8f-e4c9-0906195e6935"
      },
      "execution_count": null,
      "outputs": [
        {
          "output_type": "execute_result",
          "data": {
            "text/plain": [
              "array(['1', '0', 1, 0], dtype=object)"
            ]
          },
          "metadata": {},
          "execution_count": 27
        }
      ]
    },
    {
      "cell_type": "code",
      "source": [
        "#create csv of vectorized dataframe with NA values in shared google drive folder\n",
        "from pathlib import Path  \n",
        "filepath = Path('/content/drive/Shareddrives/DSCI400Data/dfcombinedvectorizedna.csv')  \n",
        "filepath.parent.mkdir(parents=True, exist_ok=True)  \n",
        "dfCombinedFinal.to_csv(filepath) "
      ],
      "metadata": {
        "id": "qm2f0zBJjctj"
      },
      "execution_count": null,
      "outputs": []
    },
    {
      "cell_type": "code",
      "source": [
        "#Drop any row than contains NaN value \n",
        "dfCombinedVectorized = dfCombinedFinal.dropna(how='any')\n",
        "dfCombinedVectorized[\"25\"].unique()"
      ],
      "metadata": {
        "colab": {
          "base_uri": "https://localhost:8080/"
        },
        "id": "Slt1wHKucRmh",
        "outputId": "e73207a5-cf81-4be0-b890-a7b5044b4ac2"
      },
      "execution_count": null,
      "outputs": [
        {
          "output_type": "execute_result",
          "data": {
            "text/plain": [
              "array(['1', 1], dtype=object)"
            ]
          },
          "metadata": {},
          "execution_count": 28
        }
      ]
    },
    {
      "cell_type": "code",
      "source": [
        "dfCombinedVectorized[\"25\"]"
      ],
      "metadata": {
        "colab": {
          "base_uri": "https://localhost:8080/"
        },
        "id": "MO_ITNNJiPM2",
        "outputId": "3c7849f3-69eb-4032-ffae-5f493eb4ec10"
      },
      "execution_count": null,
      "outputs": [
        {
          "output_type": "execute_result",
          "data": {
            "text/plain": [
              "1       1\n",
              "4       1\n",
              "5       1\n",
              "6       1\n",
              "7       1\n",
              "       ..\n",
              "3255    1\n",
              "3258    1\n",
              "3260    1\n",
              "3262    1\n",
              "3264    1\n",
              "Name: 25, Length: 2040, dtype: object"
            ]
          },
          "metadata": {},
          "execution_count": 26
        }
      ]
    },
    {
      "cell_type": "code",
      "source": [
        "#create csv of vectorized dataframe without NA values in shared google drive folder\n",
        "from pathlib import Path  \n",
        "filepath = Path('/content/drive/Shareddrives/DSCI400Data/dfcombinedvectorized.csv')  \n",
        "filepath.parent.mkdir(parents=True, exist_ok=True)  \n",
        "dfCombinedVectorized.to_csv(filepath) "
      ],
      "metadata": {
        "id": "sPIL52SiaP6i"
      },
      "execution_count": null,
      "outputs": []
    },
    {
      "cell_type": "code",
      "source": [
        "#drop column 25"
      ],
      "metadata": {
        "id": "2cb7-KDYafif"
      },
      "execution_count": null,
      "outputs": []
    }
  ]
}