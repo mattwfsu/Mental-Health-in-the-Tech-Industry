{
  "nbformat": 4,
  "nbformat_minor": 0,
  "metadata": {
    "colab": {
      "provenance": []
    },
    "kernelspec": {
      "name": "python3",
      "display_name": "Python 3"
    },
    "language_info": {
      "name": "python"
    }
  },
  "cells": [
    {
      "cell_type": "code",
      "source": [
        "# import the necessary libraries\n",
        "import pandas as pd\n",
        "from sklearn.linear_model import LogisticRegression\n",
        "from sklearn.ensemble import RandomForestClassifier\n",
        "from sklearn.neighbors import KNeighborsClassifier\n",
        "from sklearn.tree import DecisionTreeClassifier\n",
        "from sklearn.model_selection import train_test_split\n",
        "from sklearn.metrics import accuracy_score, confusion_matrix\n",
        "import matplotlib.pyplot as plt\n",
        "\n"
      ],
      "metadata": {
        "id": "WW5z4DRlYUeO"
      },
      "execution_count": null,
      "outputs": []
    },
    {
      "cell_type": "code",
      "source": [
        "from google.colab import drive\n",
        "drive.mount('/content/drive')"
      ],
      "metadata": {
        "colab": {
          "base_uri": "https://localhost:8080/"
        },
        "id": "n5oUtak9cJow",
        "outputId": "9928d29f-ad6f-42a8-d4eb-831d3e0b6462"
      },
      "execution_count": null,
      "outputs": [
        {
          "output_type": "stream",
          "name": "stdout",
          "text": [
            "Drive already mounted at /content/drive; to attempt to forcibly remount, call drive.mount(\"/content/drive\", force_remount=True).\n"
          ]
        }
      ]
    },
    {
      "cell_type": "code",
      "source": [
        "dfCombinedVectorized = pd.read_csv('/content/drive/Shareddrives/DSCI400Data/dfcombinedvectorized.csv')"
      ],
      "metadata": {
        "id": "H68mlpTIX2EB"
      },
      "execution_count": null,
      "outputs": []
    },
    {
      "cell_type": "code",
      "execution_count": null,
      "metadata": {
        "id": "xFDPv0UlXi-C"
      },
      "outputs": [],
      "source": [
        "# split the data into training and testing sets\n",
        "xTrain, xTest, yTrain, yTest = train_test_split(dfCombinedVectorized.drop('45', axis=1), dfCombinedVectorized['45'], test_size=0.2)"
      ]
    },
    {
      "cell_type": "code",
      "source": [
        "# create a logistic regression object\n",
        "logReg = LogisticRegression()\n",
        "\n",
        "# train the model on the training data\n",
        "logReg.fit(xTrain, yTrain)\n",
        "\n",
        "# make predictions on the testing data\n",
        "predictions = logReg.predict(xTest)\n",
        "\n",
        "# evaluate the model performance\n",
        "accuracy = accuracy_score(yTest, predictions)\n",
        "confusionMatrix = confusion_matrix(yTest, predictions)\n",
        "\n",
        "print(\"Accuracy:\", accuracy)\n",
        "print(\"Confusion matrix:\", confusionMatrix)"
      ],
      "metadata": {
        "colab": {
          "base_uri": "https://localhost:8080/"
        },
        "id": "FiXM9RWrYWSl",
        "outputId": "81614c0f-038a-4d2d-964a-1736adbb8df7"
      },
      "execution_count": null,
      "outputs": [
        {
          "output_type": "stream",
          "name": "stdout",
          "text": [
            "Accuracy: 0.6519607843137255\n",
            "Confusion matrix: [[  1  11   0   5]\n",
            " [  5 103   0  21]\n",
            " [  4  26   8  57]\n",
            " [  0   9   4 154]]\n"
          ]
        },
        {
          "output_type": "stream",
          "name": "stderr",
          "text": [
            "/usr/local/lib/python3.9/dist-packages/sklearn/linear_model/_logistic.py:458: ConvergenceWarning: lbfgs failed to converge (status=1):\n",
            "STOP: TOTAL NO. of ITERATIONS REACHED LIMIT.\n",
            "\n",
            "Increase the number of iterations (max_iter) or scale the data as shown in:\n",
            "    https://scikit-learn.org/stable/modules/preprocessing.html\n",
            "Please also refer to the documentation for alternative solver options:\n",
            "    https://scikit-learn.org/stable/modules/linear_model.html#logistic-regression\n",
            "  n_iter_i = _check_optimize_result(\n"
          ]
        }
      ]
    },
    {
      "cell_type": "code",
      "source": [
        "#Tune random forest classifier number of trees by plotting a oob error rate per tree number\n",
        "from collections import OrderedDict\n",
        "ensemble_clfs = [\n",
        "    (\n",
        "        \"RandomForestClassifier\",\n",
        "        RandomForestClassifier(\n",
        "            warm_start=True,\n",
        "            oob_score=True,\n",
        "        ),\n",
        "    ),\n",
        "]\n",
        "\n",
        "# Map a classifier name to a list of (<n_estimators>, <error rate>) pairs.\n",
        "error_rate = OrderedDict((label, []) for label, _ in ensemble_clfs)\n",
        "\n",
        "# Range of `n_estimators` values to explore.\n",
        "min_estimators = 2\n",
        "max_estimators = 50\n",
        "\n",
        "for label, clf in ensemble_clfs:\n",
        "    for i in range(min_estimators, max_estimators+1 , 2):\n",
        "        #print(i)\n",
        "        clf.set_params(n_estimators=i)\n",
        "        clf.fit(xTrain, yTrain)\n",
        "\n",
        "        # Record the OOB error for each `n_estimators=i` setting.\n",
        "        oob_error = 1 - clf.oob_score_\n",
        "        #print(oob_error)\n",
        "        error_rate[label].append((i, oob_error))\n",
        "        \n",
        "\n",
        "# Generate the \"OOB error rate\" vs. \"n_estimators\" plot.\n",
        "for label, clf_err in error_rate.items():\n",
        "    xs, ys = zip(*clf_err)\n",
        "    plt.plot(xs, ys, label=label)\n",
        "\n",
        "\n",
        "plt.xlabel(\"Number of trees\")\n",
        "plt.ylabel(\"OOB error rate\")\n",
        "plt.legend(loc=\"upper right\")\n",
        "plt.show()\n"
      ],
      "metadata": {
        "colab": {
          "base_uri": "https://localhost:8080/",
          "height": 777
        },
        "id": "lIEMRRpWf4Z9",
        "outputId": "5b5a2874-feb5-4c2b-ae2b-1dba44907cc3"
      },
      "execution_count": null,
      "outputs": [
        {
          "output_type": "stream",
          "name": "stderr",
          "text": [
            "/usr/local/lib/python3.9/dist-packages/sklearn/ensemble/_forest.py:583: UserWarning: Some inputs do not have OOB scores. This probably means too few trees were used to compute any reliable OOB estimates.\n",
            "  warn(\n",
            "/usr/local/lib/python3.9/dist-packages/sklearn/ensemble/_forest.py:583: UserWarning: Some inputs do not have OOB scores. This probably means too few trees were used to compute any reliable OOB estimates.\n",
            "  warn(\n",
            "/usr/local/lib/python3.9/dist-packages/sklearn/ensemble/_forest.py:583: UserWarning: Some inputs do not have OOB scores. This probably means too few trees were used to compute any reliable OOB estimates.\n",
            "  warn(\n",
            "/usr/local/lib/python3.9/dist-packages/sklearn/ensemble/_forest.py:583: UserWarning: Some inputs do not have OOB scores. This probably means too few trees were used to compute any reliable OOB estimates.\n",
            "  warn(\n",
            "/usr/local/lib/python3.9/dist-packages/sklearn/ensemble/_forest.py:583: UserWarning: Some inputs do not have OOB scores. This probably means too few trees were used to compute any reliable OOB estimates.\n",
            "  warn(\n",
            "/usr/local/lib/python3.9/dist-packages/sklearn/ensemble/_forest.py:583: UserWarning: Some inputs do not have OOB scores. This probably means too few trees were used to compute any reliable OOB estimates.\n",
            "  warn(\n",
            "/usr/local/lib/python3.9/dist-packages/sklearn/ensemble/_forest.py:583: UserWarning: Some inputs do not have OOB scores. This probably means too few trees were used to compute any reliable OOB estimates.\n",
            "  warn(\n",
            "/usr/local/lib/python3.9/dist-packages/sklearn/ensemble/_forest.py:583: UserWarning: Some inputs do not have OOB scores. This probably means too few trees were used to compute any reliable OOB estimates.\n",
            "  warn(\n",
            "/usr/local/lib/python3.9/dist-packages/sklearn/ensemble/_forest.py:583: UserWarning: Some inputs do not have OOB scores. This probably means too few trees were used to compute any reliable OOB estimates.\n",
            "  warn(\n",
            "/usr/local/lib/python3.9/dist-packages/sklearn/ensemble/_forest.py:583: UserWarning: Some inputs do not have OOB scores. This probably means too few trees were used to compute any reliable OOB estimates.\n",
            "  warn(\n",
            "/usr/local/lib/python3.9/dist-packages/sklearn/ensemble/_forest.py:583: UserWarning: Some inputs do not have OOB scores. This probably means too few trees were used to compute any reliable OOB estimates.\n",
            "  warn(\n",
            "/usr/local/lib/python3.9/dist-packages/sklearn/ensemble/_forest.py:583: UserWarning: Some inputs do not have OOB scores. This probably means too few trees were used to compute any reliable OOB estimates.\n",
            "  warn(\n",
            "/usr/local/lib/python3.9/dist-packages/sklearn/ensemble/_forest.py:583: UserWarning: Some inputs do not have OOB scores. This probably means too few trees were used to compute any reliable OOB estimates.\n",
            "  warn(\n"
          ]
        },
        {
          "output_type": "display_data",
          "data": {
            "text/plain": [
              "<Figure size 432x288 with 1 Axes>"
            ],
            "image/png": "[encoded data removed]"
          },
          "metadata": {
            "needs_background": "light"
          }
        }
      ]
    },
    {
      "cell_type": "code",
      "source": [
        "# create a random forest object\n",
        "rf = RandomForestClassifier(n_estimators=41)\n",
        "\n",
        "# train the model on the training data\n",
        "rf.fit(xTrain, yTrain)\n",
        "\n",
        "# make predictions on the testing data\n",
        "predictions = rf.predict(xTest)\n",
        "\n",
        "# evaluate the model performance\n",
        "accuracy = accuracy_score(yTest, predictions)\n",
        "confusionMatrixRandomForest = confusion_matrix(yTest, predictions)\n",
        "\n",
        "print(\"Accuracy:\", accuracy)\n",
        "print(\"Confusion matrix:\", confusionMatrixRandomForest)"
      ],
      "metadata": {
        "colab": {
          "base_uri": "https://localhost:8080/"
        },
        "id": "bDKV-_AteOaz",
        "outputId": "4a85df20-2fb4-48db-948c-9be31868abd0"
      },
      "execution_count": null,
      "outputs": [
        {
          "output_type": "stream",
          "name": "stdout",
          "text": [
            "Accuracy: 0.7475490196078431\n",
            "Confusion matrix: [[  3   6   5   3]\n",
            " [  0 106   6  17]\n",
            " [  2  20  41  32]\n",
            " [  0   2  10 155]]\n"
          ]
        }
      ]
    },
    {
      "cell_type": "code",
      "source": [
        "# create a decision tree object\n",
        "dt = DecisionTreeClassifier()\n",
        "\n",
        "# train the model on the training data\n",
        "dt.fit(xTrain, yTrain)\n",
        "\n",
        "# make predictions on the testing data\n",
        "predictions = dt.predict(xTest)\n",
        "\n",
        "# evaluate the model performance\n",
        "accuracy = accuracy_score(yTest, predictions)\n",
        "confusionMatrixDecisionTree = confusion_matrix(yTest, predictions)\n",
        "\n",
        "print(\"Accuracy:\", accuracy)\n",
        "print(\"Confusion matrix:\", confusionMatrixDecisionTree)"
      ],
      "metadata": {
        "colab": {
          "base_uri": "https://localhost:8080/"
        },
        "id": "lhQE-U5hevtX",
        "outputId": "8af3273a-781b-43ca-e9d4-12a909d76ee7"
      },
      "execution_count": null,
      "outputs": [
        {
          "output_type": "stream",
          "name": "stdout",
          "text": [
            "Accuracy: 0.6446078431372549\n",
            "Confusion matrix: [[  6   4   6   1]\n",
            " [ 11  92  14  12]\n",
            " [  3  24  42  26]\n",
            " [  1  16  27 123]]\n"
          ]
        }
      ]
    },
    {
      "cell_type": "code",
      "source": [
        "#Next Steps\n",
        "#focus on model interepretability\n",
        "#Random Forest: rank features in order of importance\n",
        "#Association algorithms (apriori)\n",
        "#SHAP"
      ],
      "metadata": {
        "id": "jkHq9VPdlUs3"
      },
      "execution_count": null,
      "outputs": []
    },
    {
      "cell_type": "code",
      "source": [],
      "metadata": {
        "id": "qPnaWoFllchx"
      },
      "execution_count": null,
      "outputs": []
    }
  ]
}